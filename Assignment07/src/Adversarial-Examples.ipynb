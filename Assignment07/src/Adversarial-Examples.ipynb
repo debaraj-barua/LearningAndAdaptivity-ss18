{
 "cells": [
  {
   "cell_type": "code",
   "execution_count": 1,
   "metadata": {},
   "outputs": [],
   "source": [
    "import numpy as np\n",
    "import matplotlib.pyplot as plt\n",
    "import pandas as pd\n",
    "import random\n",
    "import tensorflow as tf\n",
    "from tensorflow.contrib.tensor_forest.python import tensor_forest\n",
    "from tensorflow.python.ops import resources\n",
    "from tensorflow.examples.tutorials.mnist import input_data"
   ]
  },
  {
   "cell_type": "code",
   "execution_count": 2,
   "metadata": {},
   "outputs": [],
   "source": [
    "np.random.seed(1)"
   ]
  },
  {
   "cell_type": "markdown",
   "metadata": {},
   "source": [
    "## 1. Obtain the MNIST dataset and normalize it for use with a classifier."
   ]
  },
  {
   "cell_type": "code",
   "execution_count": 4,
   "metadata": {},
   "outputs": [
    {
     "name": "stdout",
     "output_type": "stream",
     "text": [
      "Extracting ./data/train-images-idx3-ubyte.gz\n",
      "Extracting ./data/train-labels-idx1-ubyte.gz\n",
      "Extracting ./data/t10k-images-idx3-ubyte.gz\n",
      "Extracting ./data/t10k-labels-idx1-ubyte.gz\n"
     ]
    }
   ],
   "source": [
    "# The mnist dataset is already normalized\n",
    "mnist = input_data.read_data_sets(\"./data/\", one_hot=True)"
   ]
  },
  {
   "cell_type": "markdown",
   "metadata": {},
   "source": [
    "## 2. Select two different machine learning classification models"
   ]
  },
  {
   "cell_type": "markdown",
   "metadata": {},
   "source": [
    "### A: Logistic regression"
   ]
  },
  {
   "cell_type": "code",
   "execution_count": 5,
   "metadata": {},
   "outputs": [],
   "source": [
    "#https://github.com/aymericdamien/TensorFlow-Examples/blob/master/notebooks/2_BasicModels/logistic_regression.ipynb\n",
    "\n",
    "class LogisticRegression():\n",
    "    def __init__(self, input_size, output_size, learning_rate=0.01, \n",
    "                 training_epochs= 100, batch_size=100, display_step=1):\n",
    "        self.learning_rate = learning_rate\n",
    "        self.training_epochs = training_epochs\n",
    "        self.batch_size = batch_size\n",
    "        self.display_step = display_step\n",
    "        \n",
    "        self.x = tf.placeholder(tf.float32, [None, input_size]) # mnist data image of shape 28*28=784\n",
    "        self.y = tf.placeholder(tf.float32, [None, output_size]) # 0-9 digits recognition => 10 classes\n",
    "        \n",
    "        # Set model weights\n",
    "        self.W = tf.Variable(tf.zeros([input_size, output_size]))\n",
    "        self.b = tf.Variable(tf.zeros([output_size]))\n",
    "        \n",
    "        # Construct model\n",
    "        self.pred = tf.nn.softmax(tf.matmul(self.x, self.W) + self.b)\n",
    "        self.correct_pred = tf.equal(tf.argmax(self.pred, 1), tf.argmax(self.y, 1))\n",
    "        self.accuracy = tf.reduce_mean(tf.cast(self.correct_pred, tf.float32))\n",
    "        \n",
    "        # Minimize error using cross entropy\n",
    "        self.loss = tf.reduce_mean(-tf.reduce_sum(self.y*tf.log(self.pred), reduction_indices=1))\n",
    "               \n",
    "        # Gradient Descent\n",
    "        self.optimizer = tf.train.GradientDescentOptimizer(self.learning_rate).minimize(self.loss)\n",
    "        \n",
    "        # Calculate loss with respect to input\n",
    "        self.gradient_input = tf.gradients(self.loss, self.x)[0]\n",
    "        \n",
    "        # Initialize the variables (i.e. assign their default value)\n",
    "        self.init = tf.global_variables_initializer()\n",
    "        \n",
    "    def fit(self, images, labels, sess = None):\n",
    "        sessionCreated = False\n",
    "        \n",
    "        if sess is None:\n",
    "            sess = tf.Session()\n",
    "            sess.run(self.init)\n",
    "            \n",
    "            sessionCreated = True\n",
    "\n",
    "        # Training cycle\n",
    "        for epoch in range(self.training_epochs):\n",
    "            avg_loss = 0.\n",
    "            total_batch = int(len(images)/self.batch_size)\n",
    "\n",
    "            # Loop over all batches\n",
    "            for i in range(total_batch):\n",
    "                batch_xs = images[i*self.batch_size: (i+1)*self.batch_size]\n",
    "                batch_ys = labels[i*self.batch_size: (i+1)*self.batch_size]\n",
    "\n",
    "                # Run optimization op (backprop) and loss op (to get loss value)\n",
    "                _, acc, c = sess.run([self.optimizer, self.accuracy, self.loss], feed_dict={self.x: batch_xs,\n",
    "                                                              self.y: batch_ys})\n",
    "                # Compute average loss\n",
    "                avg_loss += c / total_batch\n",
    "\n",
    "            # Display logs per epoch step\n",
    "            if self.display_step > 0 and (epoch+1) % self.display_step == 0:\n",
    "                print \"Epoch: {}, loss: {:.4f}, acc:{:.4f}\".format(epoch+1, avg_loss, acc)\n",
    "        \n",
    "        if sessionCreated:\n",
    "            sess.close()\n",
    "            \n",
    "    def measure_accuracy(self, images, labels, sess=None):\n",
    "        sessionCreated = False\n",
    "        \n",
    "        if sess is None:\n",
    "            sess = tf.Session()\n",
    "            sess.run(self.init)\n",
    "            \n",
    "            sessionCreated = True\n",
    "        \n",
    "        print \"Test accuracy:\", sess.run(self.accuracy,\n",
    "                                         feed_dict = {self.x:images, self.y:labels})\n",
    "        \n",
    "        \n",
    "        if sessionCreated:\n",
    "            sess.close()\n",
    "            \n",
    "    def get_adversarial_images(self, images, labels, sess=None):\n",
    "        sessionCreated = False\n",
    "        \n",
    "        if sess is None:\n",
    "            sess = tf.Session()\n",
    "            sess.run(self.init)\n",
    "            \n",
    "            sessionCreated = True\n",
    "        \n",
    "        pred_y = []\n",
    "        adv_x = []\n",
    "        adv_y = []\n",
    "        for index, [image, label] in enumerate(zip(images, labels)):\n",
    "            pred, grad = sess.run([self.pred, self.gradient_input], feed_dict = {\n",
    "                self.x:np.expand_dims(image, 0), self.y:np.expand_dims(label, 0)})\n",
    "\n",
    "            adversarial_img_op = image + 0.2 * tf.sign(grad)\n",
    "            adversarial_img = adversarial_img_op.eval(session=sess)\n",
    "            \n",
    "            ad_pred = sess.run(self.pred, feed_dict = {\n",
    "                self.x:adversarial_img, self.y:np.expand_dims(label, 0)})\n",
    "            \n",
    "            pred_y.append(pred[0])\n",
    "            adv_x.append(adversarial_img[0])\n",
    "            adv_y.append(ad_pred[0])\n",
    "                       \n",
    "        if sessionCreated:\n",
    "            sess.close()\n",
    "            \n",
    "        return pred_y, adv_x, adv_y"
   ]
  },
  {
   "cell_type": "markdown",
   "metadata": {},
   "source": [
    "### B: Convolutional Neural Network"
   ]
  },
  {
   "cell_type": "code",
   "execution_count": 8,
   "metadata": {},
   "outputs": [],
   "source": [
    "# REF: https://github.com/aymericdamien/TensorFlow-Examples/blob/master/notebooks/3_NeuralNetworks/convolutional_network_raw.ipynb\n",
    "class CNN():\n",
    "    def __init__(self, input_size, output_size, learning_rate=0.001, \n",
    "                 training_epochs= 1, batch_size=200, dropout=0.75, display_step=10):\n",
    "        self.learning_rate = learning_rate\n",
    "        self.training_epochs = training_epochs\n",
    "        self.batch_size = batch_size\n",
    "        self.display_step = display_step\n",
    "        self.dropout = dropout\n",
    "        \n",
    "        self.x = tf.placeholder(tf.float32, [None, input_size])\n",
    "        self.y = tf.placeholder(tf.float32, [None, output_size])\n",
    "        self.keep_prob = tf.placeholder(tf.float32) # dropout (keep probability)\n",
    "        \n",
    "        # Create some wrappers for simplicity\n",
    "        def conv2d(x, W, b, strides=1):\n",
    "            # Conv2D wrapper, with bias and relu activation\n",
    "            x = tf.nn.conv2d(x, W, strides=[1, strides, strides, 1], padding='SAME')\n",
    "            x = tf.nn.bias_add(x, b)\n",
    "            return tf.nn.relu(x)\n",
    "\n",
    "\n",
    "        def maxpool2d(x, k=2):\n",
    "            # MaxPool2D wrapper\n",
    "            return tf.nn.max_pool(x, ksize=[1, k, k, 1], strides=[1, k, k, 1],\n",
    "                                  padding='SAME')\n",
    "\n",
    "\n",
    "        # Create model\n",
    "        def conv_net(x, weights, biases, dropout):\n",
    "            # MNIST data input is a 1-D vector of 784 features (28*28 pixels)\n",
    "            # Reshape to match picture format [Height x Width x Channel]\n",
    "            # Tensor input become 4-D: [Batch Size, Height, Width, Channel]\n",
    "            x = tf.reshape(x, shape=[-1, 28, 28, 1])\n",
    "\n",
    "            # Convolution Layer\n",
    "            conv1 = conv2d(x, weights['wc1'], biases['bc1'])\n",
    "            # Max Pooling (down-sampling)\n",
    "            conv1 = maxpool2d(conv1, k=2)\n",
    "\n",
    "            # Convolution Layer\n",
    "            conv2 = conv2d(conv1, weights['wc2'], biases['bc2'])\n",
    "            # Max Pooling (down-sampling)\n",
    "            conv2 = maxpool2d(conv2, k=2)\n",
    "\n",
    "            # Fully connected layer\n",
    "            # Reshape conv2 output to fit fully connected layer input\n",
    "            fc1 = tf.reshape(conv2, [-1, weights['wd1'].get_shape().as_list()[0]])\n",
    "            fc1 = tf.add(tf.matmul(fc1, weights['wd1']), biases['bd1'])\n",
    "            fc1 = tf.nn.relu(fc1)\n",
    "            # Apply Dropout\n",
    "            fc1 = tf.nn.dropout(fc1, dropout)\n",
    "\n",
    "            # Output, class prediction\n",
    "            out = tf.add(tf.matmul(fc1, weights['out']), biases['out'])\n",
    "            return out\n",
    "        \n",
    "        # Store layers weight & bias\n",
    "        self.weights = {\n",
    "            # 5x5 conv, 1 input, 32 outputs\n",
    "            'wc1': tf.Variable(tf.random_normal([5, 5, 1, 32])),\n",
    "            # 5x5 conv, 32 inputs, 64 outputs\n",
    "            'wc2': tf.Variable(tf.random_normal([5, 5, 32, 64])),\n",
    "            # fully connected, 7*7*64 inputs, 1024 outputs\n",
    "            'wd1': tf.Variable(tf.random_normal([7*7*64, 1024])),\n",
    "            # 1024 inputs, 10 outputs (class prediction)\n",
    "            'out': tf.Variable(tf.random_normal([1024, output_size]))\n",
    "        }\n",
    "\n",
    "        self.biases = {\n",
    "            'bc1': tf.Variable(tf.random_normal([32])),\n",
    "            'bc2': tf.Variable(tf.random_normal([64])),\n",
    "            'bd1': tf.Variable(tf.random_normal([1024])),\n",
    "            'out': tf.Variable(tf.random_normal([output_size]))\n",
    "        }\n",
    "        \n",
    "        # Construct model\n",
    "        self.logits = conv_net(self.x, self.weights, self.biases, self.keep_prob)\n",
    "        self.prediction = tf.nn.softmax(self.logits)\n",
    "\n",
    "        # Define loss and optimizer\n",
    "        self.loss_op = tf.reduce_mean(tf.nn.softmax_cross_entropy_with_logits(\n",
    "            logits=self.logits, labels=self.y))\n",
    "\n",
    "        # Calculate loss with respect to input\n",
    "        self.gradient_input = tf.gradients(self.loss_op, self.x)[0]\n",
    "\n",
    "        self.optimizer = tf.train.AdamOptimizer(learning_rate=self.learning_rate)\n",
    "        self.train_op = self.optimizer.minimize(self.loss_op)\n",
    "\n",
    "\n",
    "        # Evaluate model\n",
    "        self.correct_pred = tf.equal(tf.argmax(self.prediction, 1), tf.argmax(self.y, 1))\n",
    "        self.accuracy = tf.reduce_mean(tf.cast(self.correct_pred, tf.float32))\n",
    "\n",
    "        # Initialize the variables (i.e. assign their default value)\n",
    "        self.init = tf.global_variables_initializer()\n",
    "\n",
    "        \n",
    "    def fit(self, images, labels, sess = None):\n",
    "        sessionCreated = False\n",
    "        \n",
    "        if sess is None:\n",
    "            sess = tf.Session()\n",
    "            sess.run(self.init)\n",
    "            \n",
    "            sessionCreated = True\n",
    "\n",
    "        # Training cycle\n",
    "        for step in range(1, self.training_epochs+1):\n",
    "            total_batch = int(len(images)/self.batch_size)\n",
    "            \n",
    "            # Loop over all batches\n",
    "            for i in range(total_batch):\n",
    "                batch_x = images[i*self.batch_size: (i+1)*self.batch_size]\n",
    "                batch_y = labels[i*self.batch_size: (i+1)*self.batch_size]\n",
    "            \n",
    "                # Run optimization op (backprop)\n",
    "                sess.run(self.train_op, feed_dict={self.x: batch_x, self.y: batch_y, self.keep_prob: self.dropout})\n",
    "            \n",
    "                count = step*i\n",
    "                if self.display_step>0 and (count % self.display_step == 0 or count == 1):\n",
    "                    # Calculate batch loss and accuracy\n",
    "                    loss, acc = sess.run([self.loss_op, self.accuracy], feed_dict={self.x: batch_x,\n",
    "                                                                         self.y: batch_y,\n",
    "                                                                         self.keep_prob: 1.0})\n",
    "                    print \"Epoch: {}, loss: {:.4f}, acc:{:.4f}\".format(count, loss, acc)\n",
    "        \n",
    "        if sessionCreated:\n",
    "            sess.close()\n",
    "            \n",
    "    def measure_accuracy(self, images, labels, sess=None):\n",
    "        sessionCreated = False\n",
    "        \n",
    "        if sess is None:\n",
    "            sess = tf.Session()\n",
    "            sess.run(self.init)\n",
    "            \n",
    "            sessionCreated = True\n",
    "        \n",
    "        print \"Test accuracy:\", sess.run(self.accuracy,\n",
    "                 feed_dict = {self.x:images[0:256],\n",
    "                              self.y:labels[0:256], self.keep_prob: 1.0})\n",
    "        \n",
    "        \n",
    "        if sessionCreated:\n",
    "            sess.close()\n",
    "            \n",
    "    def get_adversarial_images(self, images, labels, sess=None):\n",
    "        sessionCreated = False\n",
    "        \n",
    "        if sess is None:\n",
    "            sess = tf.Session()\n",
    "            sess.run(self.init)\n",
    "            \n",
    "            sessionCreated = True\n",
    "        \n",
    "        pred_y = []\n",
    "        adv_x = []\n",
    "        adv_y = []\n",
    "        for index, [image, label] in enumerate(zip(images, labels)):\n",
    "            pred, grad = sess.run([self.prediction, self.gradient_input], feed_dict = {\n",
    "                self.x:np.expand_dims(image, 0), self.y:np.expand_dims(label, 0), self.keep_prob: 1.0})\n",
    "\n",
    "            adversarial_img_op = image + 0.2 * tf.sign(grad)\n",
    "            adversarial_img = adversarial_img_op.eval(session=sess)\n",
    "            \n",
    "            ad_pred = sess.run(self.prediction, feed_dict = {\n",
    "                self.x:adversarial_img, self.y:np.expand_dims(label, 0), self.keep_prob: 1.0})\n",
    "            \n",
    "            pred_y.append(pred[0])\n",
    "            adv_x.append(adversarial_img[0])\n",
    "            adv_y.append(ad_pred[0])\n",
    "                       \n",
    "        if sessionCreated:\n",
    "            sess.close()\n",
    "            \n",
    "        return pred_y, adv_x, adv_y"
   ]
  },
  {
   "cell_type": "markdown",
   "metadata": {},
   "source": [
    "#### C: Random forest (Did not use this for adversarial example because tf.gradients(...) throws error for tensor_forest)"
   ]
  },
  {
   "cell_type": "code",
   "execution_count": 9,
   "metadata": {},
   "outputs": [],
   "source": [
    "# https://github.com/aymericdamien/TensorFlow-Examples/blob/master/examples/2_BasicModels/random_forest.py\n",
    "\n",
    "class RandomForest():\n",
    "    def __init__(self, input_size, output_size, training_epochs= 500,\n",
    "                 batch_size=1024, num_trees=10, max_nodes = 1000, display_step=1):\n",
    "        self.training_epochs = training_epochs\n",
    "        self.batch_size = batch_size\n",
    "        self.num_trees = num_trees\n",
    "        self.max_nodes = max_nodes\n",
    "        self.display_step = display_step\n",
    "        \n",
    "        # Input and Target data\n",
    "        self.x = tf.placeholder(tf.float32, shape=[None, input_size])\n",
    "        # For random forest, labels must be integers (the class id)\n",
    "        self.y = tf.placeholder(tf.int32, shape=[None])\n",
    "        \n",
    "        # Random Forest Parameters\n",
    "        self.hparams = tensor_forest.ForestHParams(num_classes=output_size,\n",
    "                                      num_features=input_size,\n",
    "                                      num_trees=self.num_trees,\n",
    "                                      max_nodes=self.max_nodes).fill()\n",
    "        \n",
    "        # Build the Random Forest\n",
    "        self.forest_graph = tensor_forest.RandomForestGraphs(self.hparams)\n",
    "        # Get training graph and loss\n",
    "        self.train = self.forest_graph.training_graph(self.x, self.y)\n",
    "        self.loss = self.forest_graph.training_loss(self.x, self.y)\n",
    "\n",
    "        # Measure the accuracy\n",
    "        self.infer, _, _ = self.forest_graph.inference_graph(self.x)\n",
    "        self.correct_pred = tf.equal(tf.argmax(self.infer, 1), tf.cast(self.y, tf.int64))\n",
    "        self.accuracy = tf.reduce_mean(tf.cast(self.correct_pred, tf.float32))\n",
    "\n",
    "        # Initialize the variables (i.e. assign their default value) and forest resources\n",
    "        self.init = tf.group(tf.global_variables_initializer(),\n",
    "            resources.initialize_resources(resources.shared_resources()))\n",
    "\n",
    "    \n",
    "    def fit(self, sess = None):\n",
    "        sessionCreated = False\n",
    "        \n",
    "        if sess is None:\n",
    "            sess = tf.Session()\n",
    "            sess.run(self.init)\n",
    "            \n",
    "            sessionCreated = True\n",
    "\n",
    "        # Training\n",
    "        for i in range(1, self.training_epochs + 1):\n",
    "            # Prepare Data\n",
    "            # Get the next batch of MNIST data (only images are needed, not labels)\n",
    "            batch_x, batch_y = mnist.train.next_batch(self.batch_size)\n",
    "            _, l = sess.run([self.train, self.loss], feed_dict={self.x: batch_x, self.y: np.argmax(batch_y, axis=1)})\n",
    "            \n",
    "            if self.display_step >0 and (i % self.display_step == 0 or i == 1):\n",
    "                acc = sess.run(self.accuracy, feed_dict={self.x: batch_x, self.y: np.argmax(batch_y, axis=1)})\n",
    "                print \"Step {}, loss: {:.4f}, acc: {:.4f}\".format(i+1, l, acc)\n",
    "\n",
    "        \n",
    "        if sessionCreated:\n",
    "            sess.close()\n",
    "            \n",
    "    def measure_accuracy(self, sess=None):\n",
    "        sessionCreated = False\n",
    "        \n",
    "        if sess is None:\n",
    "            sess = tf.Session()\n",
    "            sess.run(self.init)\n",
    "            \n",
    "            sessionCreated = True\n",
    "        \n",
    "        print \"Test accuracy:\", sess.run(self.accuracy,feed_dict = {self.x:mnist.test.images, self.y:np.argmax(mnist.test.labels, axis=1)})\n",
    "        \n",
    "        \n",
    "        if sessionCreated:\n",
    "            sess.close()"
   ]
  },
  {
   "cell_type": "markdown",
   "metadata": {},
   "source": [
    "## 3. Train both models and achieve a \"decent\" testing accuracy (over 90%)"
   ]
  },
  {
   "cell_type": "markdown",
   "metadata": {},
   "source": [
    "### A: Logistic regression"
   ]
  },
  {
   "cell_type": "code",
   "execution_count": 11,
   "metadata": {},
   "outputs": [
    {
     "name": "stdout",
     "output_type": "stream",
     "text": [
      "Test accuracy: 0.9145\n"
     ]
    }
   ],
   "source": [
    "clf_reg = LogisticRegression(mnist.train.images.shape[1], 10, training_epochs=25, display_step=0)\n",
    "\n",
    "with tf.Session() as sess:\n",
    "    # Run the initializer\n",
    "    sess.run(clf_reg.init)\n",
    "    \n",
    "    clf_reg.fit(mnist.train.images, mnist.train.labels, sess)\n",
    "    clf_reg.measure_accuracy(mnist.test.images, mnist.test.labels, sess)"
   ]
  },
  {
   "cell_type": "markdown",
   "metadata": {},
   "source": [
    "### B: Convolutional Neural Network"
   ]
  },
  {
   "cell_type": "code",
   "execution_count": 12,
   "metadata": {},
   "outputs": [
    {
     "name": "stdout",
     "output_type": "stream",
     "text": [
      "Test accuracy: 0.95703125\n"
     ]
    }
   ],
   "source": [
    "clf_cnn = CNN(mnist.train.images.shape[1], 10, display_step=0)\n",
    "\n",
    "with tf.Session() as sess:\n",
    "    # Run the initializer\n",
    "    sess.run(clf_cnn.init)\n",
    "    \n",
    "    clf_cnn.fit(mnist.train.images, mnist.train.labels, sess)\n",
    "    clf_cnn.measure_accuracy(mnist.test.images, mnist.test.labels, sess)"
   ]
  },
  {
   "cell_type": "markdown",
   "metadata": {},
   "source": [
    "#### C: Random forest"
   ]
  },
  {
   "cell_type": "code",
   "execution_count": 10,
   "metadata": {},
   "outputs": [
    {
     "name": "stdout",
     "output_type": "stream",
     "text": [
      "INFO:tensorflow:Constructing forest with params = \n",
      "INFO:tensorflow:{'num_output_columns': 11, 'feature_bagging_fraction': 1.0, 'valid_leaf_threshold': 1, 'checkpoint_stats': False, 'initialize_average_splits': False, 'pruning_type': 0, 'prune_every_samples': 0, 'dominate_fraction': 0.99, 'max_fertile_nodes': 0, 'early_finish_check_every_samples': 0, 'dominate_method': 'bootstrap', 'bagging_fraction': 1.0, 'regression': False, 'param_file': None, 'bagged_num_features': 784, 'use_running_stats_method': False, 'max_nodes': 1000, 'split_finish_name': 'basic', 'leaf_model_type': 0, 'stats_model_type': 0, 'bagged_features': None, 'num_features': 784, 'split_after_samples': 250, 'num_outputs': 1, 'collate_examples': False, 'split_type': 0, 'num_classes': 10, 'num_splits_to_consider': 28.0, 'split_name': 'less_or_equal', 'finish_type': 0, 'inference_tree_paths': False, 'split_pruning_name': 'none', 'base_random_seed': 0, 'num_trees': 10, 'model_name': 'all_dense'}\n",
      "Test accuracy: 0.9243\n"
     ]
    }
   ],
   "source": [
    "clf_rf = RandomForest(mnist.train.images.shape[1], 10, training_epochs=500, display_step=0)\n",
    "with tf.Session() as sess:\n",
    "    # Run the initializer\n",
    "    sess.run(clf_rf.init)\n",
    "    \n",
    "    clf_rf.fit(sess)\n",
    "    clf_rf.measure_accuracy(sess)"
   ]
  },
  {
   "cell_type": "markdown",
   "metadata": {},
   "source": [
    "## 4.  Generate 100 adversarial examples for each model"
   ]
  },
  {
   "cell_type": "markdown",
   "metadata": {},
   "source": [
    "From the adversarial examples generated using both the models, we can see that Logistic regression model generates better adversarial examples compared to Convolutional Neural Network. In case of CNN we get higher accuracy for the test dataset. However, due to vanishing gradient, CNN causes no change to to input image based on which adversarial examples are generated.\n",
    "\n",
    "Adversarial examples in case of CNN can be generated using very small number of epochs and training data. In that case the model is not trained well and it's prediction is not good for neither orginal image nor the adversarial example."
   ]
  },
  {
   "cell_type": "code",
   "execution_count": 13,
   "metadata": {},
   "outputs": [],
   "source": [
    "# Helper function for visualization\n",
    "\n",
    "def show_images(images, labels, n, title=\"Label\"):\n",
    "    plt.figure(figsize=(20,4))\n",
    "    for index, (image, label) in enumerate(zip(images[0:n], labels[0:n])):\n",
    "        plt.subplot(1, n, index + 1)\n",
    "        plt.imshow(np.reshape(image, (28,28)), cmap=plt.cm.gray)\n",
    "        plt.title('%s: %i\\n' % (title, label), fontsize = 12)\n",
    "    plt.show()\n",
    "    \n",
    "def show_proba(images, labels, probabilities, n, title=\"Label\"):\n",
    "    plt.figure(figsize=(20,4))\n",
    "    for index, (image, label, proba) in enumerate(zip(images[0:n], labels[0:n], probabilities[0:n])):\n",
    "        plt.subplot(1, n, index + 1)\n",
    "        \n",
    "        #y_proba = classifier.predict_proba([image])[0]\n",
    "        plt.bar(np.arange(10), proba)\n",
    "        \n",
    "        # print y_proba\n",
    "        plt.title('%s: %i\\n' % (title, label), fontsize = 12)\n",
    "    plt.show()"
   ]
  },
  {
   "cell_type": "markdown",
   "metadata": {},
   "source": [
    "### A: Logistic regression"
   ]
  },
  {
   "cell_type": "markdown",
   "metadata": {},
   "source": [
    "##### Generate 100 examples"
   ]
  },
  {
   "cell_type": "code",
   "execution_count": 14,
   "metadata": {},
   "outputs": [],
   "source": [
    "clf_reg = LogisticRegression(mnist.train.images.shape[1], 10, training_epochs=25, display_step=0)\n",
    "with tf.Session() as sess:\n",
    "    # Run the initializer\n",
    "    sess.run(clf_reg.init)\n",
    "    \n",
    "    clf_reg.fit(mnist.train.images, mnist.train.labels, sess)\n",
    "    reg_pred_y, reg_adv_x, reg_adv_y = clf_reg.get_adversarial_images(mnist.test.images[0:100],\n",
    "                              mnist.test.labels[0:100], sess=sess)"
   ]
  },
  {
   "cell_type": "markdown",
   "metadata": {},
   "source": [
    "##### Visualize 5 for analysis"
   ]
  },
  {
   "cell_type": "markdown",
   "metadata": {},
   "source": [
    "##### Actual labels"
   ]
  },
  {
   "cell_type": "code",
   "execution_count": 15,
   "metadata": {},
   "outputs": [
    {
     "data": {
      "image/png": "[encoded data removed]",
      "text/plain": [
       "<Figure size 1440x288 with 5 Axes>"
      ]
     },
     "metadata": {},
     "output_type": "display_data"
    }
   ],
   "source": [
    "show_images(mnist.test.images, np.argmax(mnist.test.labels, axis=1), 5)"
   ]
  },
  {
   "cell_type": "markdown",
   "metadata": {},
   "source": [
    "##### Predicted labels"
   ]
  },
  {
   "cell_type": "code",
   "execution_count": 16,
   "metadata": {},
   "outputs": [
    {
     "data": {
      "image/png": "[encoded data removed]",
      "text/plain": [
       "<Figure size 1440x288 with 5 Axes>"
      ]
     },
     "metadata": {},
     "output_type": "display_data"
    }
   ],
   "source": [
    "show_images(mnist.test.images[0:100], np.argmax(reg_pred_y, axis=1), 5, title=\"Prediction\")"
   ]
  },
  {
   "cell_type": "markdown",
   "metadata": {},
   "source": [
    "##### Adversarial images with predicted labels"
   ]
  },
  {
   "cell_type": "code",
   "execution_count": 17,
   "metadata": {},
   "outputs": [
    {
     "data": {
      "image/png": "[encoded data removed]",
      "text/plain": [
       "<Figure size 1440x288 with 5 Axes>"
      ]
     },
     "metadata": {},
     "output_type": "display_data"
    }
   ],
   "source": [
    "show_images(reg_adv_x, np.argmax(reg_adv_y, axis=1), 5, title=\"Prediction\")"
   ]
  },
  {
   "cell_type": "markdown",
   "metadata": {},
   "source": [
    "##### Probability for original images"
   ]
  },
  {
   "cell_type": "code",
   "execution_count": 18,
   "metadata": {},
   "outputs": [
    {
     "data": {
      "image/png": "[encoded data removed]",
      "text/plain": [
       "<Figure size 1440x288 with 5 Axes>"
      ]
     },
     "metadata": {},
     "output_type": "display_data"
    }
   ],
   "source": [
    "show_proba(mnist.test.images[0:100], np.argmax(mnist.test.labels[0:100], axis=1), reg_pred_y, 5)"
   ]
  },
  {
   "cell_type": "markdown",
   "metadata": {},
   "source": [
    "##### Probability for adversarial images"
   ]
  },
  {
   "cell_type": "code",
   "execution_count": 19,
   "metadata": {},
   "outputs": [
    {
     "data": {
      "image/png": "[encoded data removed]",
      "text/plain": [
       "<Figure size 1440x288 with 5 Axes>"
      ]
     },
     "metadata": {},
     "output_type": "display_data"
    }
   ],
   "source": [
    "show_proba(reg_adv_x, np.argmax(mnist.test.labels[0:100], axis=1), reg_adv_y, 5)"
   ]
  },
  {
   "cell_type": "markdown",
   "metadata": {},
   "source": [
    "##### Accuracy for the adversarial images"
   ]
  },
  {
   "cell_type": "code",
   "execution_count": 21,
   "metadata": {},
   "outputs": [
    {
     "name": "stdout",
     "output_type": "stream",
     "text": [
      "Adversarial accuracy: 0.0\n"
     ]
    }
   ],
   "source": [
    "clf_reg = LogisticRegression(mnist.train.images.shape[1], 10, training_epochs=25, display_step=0)\n",
    "\n",
    "with tf.Session() as sess:\n",
    "    # Run the initializer\n",
    "    sess.run(clf_reg.init)\n",
    "    \n",
    "    clf_reg.fit(mnist.train.images, mnist.train.labels, sess)\n",
    "    \n",
    "    print \"Adversarial accuracy:\", sess.run(clf_reg.accuracy,\n",
    "                    feed_dict = {clf_reg.x:reg_adv_x, clf_reg.y:mnist.test.labels[0:100]})"
   ]
  },
  {
   "cell_type": "markdown",
   "metadata": {},
   "source": [
    "### B: Convolutional Neural Network"
   ]
  },
  {
   "cell_type": "markdown",
   "metadata": {},
   "source": [
    "##### Generate 100 examples"
   ]
  },
  {
   "cell_type": "code",
   "execution_count": 23,
   "metadata": {},
   "outputs": [],
   "source": [
    "clf_cnn = CNN(mnist.train.images.shape[1], 10, training_epochs=1, display_step=0)\n",
    "\n",
    "with tf.Session() as sess:\n",
    "    # Run the initializer\n",
    "    sess.run(clf_cnn.init)\n",
    "    \n",
    "    clf_cnn.fit(mnist.train.images[0:2000], mnist.train.labels[0:2000], sess)\n",
    "    cnn_pred_y, cnn_adv_x, cnn_adv_y = clf_cnn.get_adversarial_images(mnist.test.images[0:100],\n",
    "                              mnist.test.labels[0:100], sess=sess)"
   ]
  },
  {
   "cell_type": "markdown",
   "metadata": {},
   "source": [
    "##### Visualize 5 for analysis"
   ]
  },
  {
   "cell_type": "markdown",
   "metadata": {},
   "source": [
    "#### Actual labels"
   ]
  },
  {
   "cell_type": "code",
   "execution_count": 24,
   "metadata": {},
   "outputs": [
    {
     "data": {
      "image/png": "[encoded data removed]",
      "text/plain": [
       "<Figure size 1440x288 with 5 Axes>"
      ]
     },
     "metadata": {},
     "output_type": "display_data"
    }
   ],
   "source": [
    "show_images(mnist.test.images[0:100], np.argmax(mnist.test.labels, axis=1), 5)"
   ]
  },
  {
   "cell_type": "markdown",
   "metadata": {},
   "source": [
    "##### Predicted labels"
   ]
  },
  {
   "cell_type": "markdown",
   "metadata": {},
   "source": [
    "Most predictions are poor because the network was intentionaly trained with less data and for few epochs to generate adversarial examples"
   ]
  },
  {
   "cell_type": "code",
   "execution_count": 25,
   "metadata": {},
   "outputs": [
    {
     "data": {
      "image/png": "[encoded data removed]",
      "text/plain": [
       "<Figure size 1440x288 with 5 Axes>"
      ]
     },
     "metadata": {},
     "output_type": "display_data"
    }
   ],
   "source": [
    "show_images(mnist.test.images[0:100], np.argmax(cnn_pred_y, axis=1), 5, title=\"Prediction\")"
   ]
  },
  {
   "cell_type": "markdown",
   "metadata": {},
   "source": [
    "##### Adversarial images with predicted labels"
   ]
  },
  {
   "cell_type": "code",
   "execution_count": 26,
   "metadata": {},
   "outputs": [
    {
     "data": {
      "image/png": "[encoded data removed]",
      "text/plain": [
       "<Figure size 1440x288 with 5 Axes>"
      ]
     },
     "metadata": {},
     "output_type": "display_data"
    }
   ],
   "source": [
    "show_images(cnn_adv_x, np.argmax(cnn_adv_y, axis=1), 5, title=\"Prediction\")"
   ]
  },
  {
   "cell_type": "markdown",
   "metadata": {},
   "source": [
    "##### Probability for original image"
   ]
  },
  {
   "cell_type": "code",
   "execution_count": 27,
   "metadata": {},
   "outputs": [
    {
     "data": {
      "image/png": "[encoded data removed]",
      "text/plain": [
       "<Figure size 1440x288 with 5 Axes>"
      ]
     },
     "metadata": {},
     "output_type": "display_data"
    }
   ],
   "source": [
    "show_proba(mnist.test.images[0:100], np.argmax(mnist.test.labels[0:100], axis=1), cnn_pred_y, 5)"
   ]
  },
  {
   "cell_type": "markdown",
   "metadata": {},
   "source": [
    "##### Probability for adversarial images"
   ]
  },
  {
   "cell_type": "code",
   "execution_count": 28,
   "metadata": {},
   "outputs": [
    {
     "data": {
      "image/png": "[encoded data removed]",
      "text/plain": [
       "<Figure size 1440x288 with 5 Axes>"
      ]
     },
     "metadata": {},
     "output_type": "display_data"
    }
   ],
   "source": [
    "show_proba(cnn_adv_x, np.argmax(mnist.test.labels[0:100], axis=1), cnn_adv_y, 5)"
   ]
  },
  {
   "cell_type": "markdown",
   "metadata": {},
   "source": [
    "##### Accuracy for the adversarial images"
   ]
  },
  {
   "cell_type": "code",
   "execution_count": 30,
   "metadata": {},
   "outputs": [
    {
     "name": "stdout",
     "output_type": "stream",
     "text": [
      "Adversarial accuracy: 0.78\n"
     ]
    }
   ],
   "source": [
    "clf_cnn = CNN(mnist.train.images.shape[1], 10, display_step=0)\n",
    "\n",
    "with tf.Session() as sess:\n",
    "    # Run the initializer\n",
    "    sess.run(clf_cnn.init)\n",
    "    \n",
    "    clf_cnn.fit(mnist.train.images, mnist.train.labels, sess)\n",
    "    \n",
    "    print \"Adversarial accuracy:\", sess.run(clf_cnn.accuracy,\n",
    "                    feed_dict = {clf_cnn.x:cnn_adv_x, \n",
    "                                 clf_cnn.y:mnist.test.labels[0:100], clf_cnn.keep_prob: 1.0})"
   ]
  },
  {
   "cell_type": "markdown",
   "metadata": {},
   "source": [
    "## 5. Use the adversarial examples of A with model B and of B with model A"
   ]
  },
  {
   "cell_type": "markdown",
   "metadata": {},
   "source": [
    "The accuracy value below shows that the adversarial examples of Logistic regression fools Convolutional Neural Network but not vice versa. In the previous section we also found that accuracy of CNN for adversarial examples generated by itself is 78% whereas accuracy of Logistic regression for it's adversarial examples is zero."
   ]
  },
  {
   "cell_type": "markdown",
   "metadata": {},
   "source": [
    "### Adversarial examples of Convolutional Neural Network used with Logistic regression"
   ]
  },
  {
   "cell_type": "code",
   "execution_count": 32,
   "metadata": {},
   "outputs": [
    {
     "name": "stdout",
     "output_type": "stream",
     "text": [
      "Adversarial accuracy: 0.95\n"
     ]
    }
   ],
   "source": [
    "clf_reg = LogisticRegression(mnist.train.images.shape[1], 10, training_epochs=25, display_step=0)\n",
    "\n",
    "with tf.Session() as sess:\n",
    "    # Run the initializer\n",
    "    sess.run(clf_reg.init)\n",
    "    \n",
    "    clf_reg.fit(mnist.train.images, mnist.train.labels, sess)\n",
    "    \n",
    "    print \"Adversarial accuracy:\", sess.run(clf_reg.accuracy,\n",
    "                    feed_dict = {clf_reg.x:cnn_adv_x, clf_reg.y:mnist.test.labels[0:100]})"
   ]
  },
  {
   "cell_type": "markdown",
   "metadata": {},
   "source": [
    "### Adversarial examples of Logistic regression used with Convolutional Neural Network"
   ]
  },
  {
   "cell_type": "code",
   "execution_count": 34,
   "metadata": {},
   "outputs": [
    {
     "name": "stdout",
     "output_type": "stream",
     "text": [
      "Adversarial accuracy: 0.22\n"
     ]
    }
   ],
   "source": [
    "clf_cnn = CNN(mnist.train.images.shape[1], 10, display_step=0)\n",
    "\n",
    "with tf.Session() as sess:\n",
    "    # Run the initializer\n",
    "    sess.run(clf_cnn.init)\n",
    "    \n",
    "    clf_cnn.fit(mnist.train.images, mnist.train.labels, sess)\n",
    "    \n",
    "    print \"Adversarial accuracy:\", sess.run(clf_cnn.accuracy,\n",
    "                    feed_dict = {clf_cnn.x:reg_adv_x, \n",
    "                                 clf_cnn.y:mnist.test.labels[0:100], clf_cnn.keep_prob: 1.0})"
   ]
  },
  {
   "cell_type": "markdown",
   "metadata": {},
   "source": [
    "## 6. Generate new adversarial examples and evaluate"
   ]
  },
  {
   "cell_type": "markdown",
   "metadata": {},
   "source": [
    "### Generate new examples using Logistic regression"
   ]
  },
  {
   "cell_type": "markdown",
   "metadata": {},
   "source": [
    "We used 1000 adversarial examples to reduce processing time"
   ]
  },
  {
   "cell_type": "code",
   "execution_count": null,
   "metadata": {},
   "outputs": [],
   "source": [
    "new_images = []\n",
    "new_labels = []\n",
    "\n",
    "clf_reg = LogisticRegression(mnist.train.images.shape[1], 10, training_epochs=25, display_step=0)\n",
    "\n",
    "with tf.Session() as sess:\n",
    "    # Run the initializer\n",
    "    sess.run(clf_reg.init)\n",
    "    \n",
    "    clf_reg.fit(mnist.train.images, mnist.train.labels, sess)\n",
    "\n",
    "    for index, [image, label] in enumerate(zip(mnist.train.images[0:1000], mnist.train.labels[0:1000])):\n",
    "        new_images.append(image)\n",
    "        new_labels.append(label)\n",
    "    \n",
    "    for index, [image, label] in enumerate(zip(mnist.train.images, mnist.train.labels)):\n",
    "        grad = sess.run([clf_reg.gradient_input], feed_dict = {\n",
    "            clf_reg.x:np.expand_dims(image, 0), clf_reg.y:np.expand_dims(label, 0)})\n",
    "        \n",
    "        \n",
    "        adversarial_img_op = image + 0.2 * tf.sign(grad[0])\n",
    "        adversarial_img = adversarial_img_op.eval(session=sess)\n",
    "\n",
    "\n",
    "        new_images.append(adversarial_img[0])\n",
    "        new_labels.append(label)"
   ]
  },
  {
   "cell_type": "markdown",
   "metadata": {},
   "source": [
    "### Evaluation with new adversarial examples"
   ]
  },
  {
   "cell_type": "markdown",
   "metadata": {},
   "source": [
    "#### Logistic regression"
   ]
  },
  {
   "cell_type": "code",
   "execution_count": 51,
   "metadata": {},
   "outputs": [
    {
     "name": "stdout",
     "output_type": "stream",
     "text": [
      "Test accuracy: 0.9069\n"
     ]
    }
   ],
   "source": [
    "clf_reg = LogisticRegression(mnist.train.images.shape[1], 10, training_epochs=25, display_step=0)\n",
    "\n",
    "with tf.Session() as sess:\n",
    "    # Run the initializer\n",
    "    sess.run(clf_reg.init)\n",
    "    \n",
    "    clf_reg.fit(new_images, new_labels, sess)\n",
    "    clf_reg.measure_accuracy(mnist.test.images, mnist.test.labels, sess)"
   ]
  },
  {
   "cell_type": "markdown",
   "metadata": {},
   "source": [
    "#### Convolutional Neural Network"
   ]
  },
  {
   "cell_type": "code",
   "execution_count": 52,
   "metadata": {},
   "outputs": [
    {
     "name": "stdout",
     "output_type": "stream",
     "text": [
      "Test accuracy: 0.91015625\n"
     ]
    }
   ],
   "source": [
    "clf_cnn = CNN(mnist.train.images.shape[1], 10, display_step=0)\n",
    "\n",
    "with tf.Session() as sess:\n",
    "    # Run the initializer\n",
    "    sess.run(clf_cnn.init)\n",
    "    \n",
    "    clf_cnn.fit(new_images, new_labels, sess)\n",
    "    clf_cnn.measure_accuracy(mnist.test.images, mnist.test.labels, sess)"
   ]
  },
  {
   "cell_type": "markdown",
   "metadata": {},
   "source": [
    "- The evaluation above shows that the classification accuracy decreases for both the models in case of adversarial examples added in training set. This happens because the models tend to overfit.\n",
    "\n",
    "- The model is less susceptible to adversarial examples after training with new examples.\n",
    "\n",
    "- Yes we can do regularization to avoid overfitting. The CNN model uses dropout for regularization."
   ]
  }
 ],
 "metadata": {
  "kernelspec": {
   "display_name": "Python 2",
   "language": "python",
   "name": "python2"
  },
  "language_info": {
   "codemirror_mode": {
    "name": "ipython",
    "version": 2
   },
   "file_extension": ".py",
   "mimetype": "text/x-python",
   "name": "python",
   "nbconvert_exporter": "python",
   "pygments_lexer": "ipython2",
   "version": "2.7.15"
  }
 },
 "nbformat": 4,
 "nbformat_minor": 2
}
