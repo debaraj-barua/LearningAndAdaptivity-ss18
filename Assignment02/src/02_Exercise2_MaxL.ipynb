{
 "cells": [
  {
   "cell_type": "markdown",
   "metadata": {},
   "source": [
    "## Task1"
   ]
  },
  {
   "cell_type": "markdown",
   "metadata": {},
   "source": [
    "Implement in Python ( you can use SciPy library) the Maximum Likelihood Estimator to estimate the parameters for example mean and variance of some data.\n",
    "Your steps are:\n",
    "* Create a data set: \n",
    "    - Set x-values for example: *x = np.linspace(0, 100, num=100)*, \n",
    "    - Set observed y-values using a known slope (1.4), intercept (4), and sd (3), for example       *y = 4 + 1.4x + np.random.normal(0, 3, 100)*\n",
    "* Create a likelihood function which arguments is a list of initial parameters\n",
    "* Test this function on various data sets \n",
    "(Hint: you can use minimize from scipy.optimize and scipy.stats to compute the negative log-likelihood)"
   ]
  },
  {
   "cell_type": "code",
   "execution_count": 55,
   "metadata": {},
   "outputs": [],
   "source": [
    "import numpy as np\n",
    "import scipy as sp\n",
    "import matplotlib.pyplot as plt\n",
    "import pandas as pd"
   ]
  },
  {
   "cell_type": "code",
   "execution_count": 68,
   "metadata": {},
   "outputs": [
    {
     "data": {
      "text/html": [
       "<div>\n",
       "<style scoped>\n",
       "    .dataframe tbody tr th:only-of-type {\n",
       "        vertical-align: middle;\n",
       "    }\n",
       "\n",
       "    .dataframe tbody tr th {\n",
       "        vertical-align: top;\n",
       "    }\n",
       "\n",
       "    .dataframe thead th {\n",
       "        text-align: right;\n",
       "    }\n",
       "</style>\n",
       "<table border=\"1\" class=\"dataframe\">\n",
       "  <thead>\n",
       "    <tr style=\"text-align: right;\">\n",
       "      <th></th>\n",
       "      <th>Slope</th>\n",
       "      <th>Slope (calc)</th>\n",
       "      <th>Y Intercept</th>\n",
       "      <th>Y Intercept (calc)</th>\n",
       "    </tr>\n",
       "  </thead>\n",
       "  <tbody>\n",
       "    <tr>\n",
       "      <th>0</th>\n",
       "      <td>1.4</td>\n",
       "      <td>1.400469</td>\n",
       "      <td>4</td>\n",
       "      <td>3.976573</td>\n",
       "    </tr>\n",
       "    <tr>\n",
       "      <th>1</th>\n",
       "      <td>0.5</td>\n",
       "      <td>0.500469</td>\n",
       "      <td>1</td>\n",
       "      <td>0.976573</td>\n",
       "    </tr>\n",
       "  </tbody>\n",
       "</table>\n",
       "</div>"
      ],
      "text/plain": [
       "  Slope  Slope (calc) Y Intercept  Y Intercept (calc)\n",
       "0   1.4      1.400469           4            3.976573\n",
       "1   0.5      0.500469           1            0.976573"
      ]
     },
     "execution_count": 68,
     "metadata": {},
     "output_type": "execute_result"
    }
   ],
   "source": [
    "noise = np.random.normal(0, 3, 100)\n",
    "noise_mean, noise_variance = sp.stats.norm.fit(noise)\n",
    "\n",
    "def log_likelihood(params):\n",
    "    (y_intercept, slope) = params\n",
    "\n",
    "    y_mean = y_intercept + (slope * x) + noise_mean\n",
    "    log_likelihood = -np.sum(np.log(sp.stats.norm.pdf(y, loc=y_mean, scale=noise_variance)))\n",
    "    \n",
    "    return(log_likelihood)\n",
    "\n",
    "x = np.linspace(0, 100, num=100)\n",
    "y = 4 + (1.4 * x) + noise\n",
    "\n",
    "[y_intercept1, slope1] = sp.optimize.minimize(log_likelihood, (1, 1)).x\n",
    "\n",
    "x = np.linspace(0, 100, num=100)\n",
    "y = 1 + ( 0.5 * x) + noise\n",
    "\n",
    "[y_intercept2, slope2] = sp.optimize.minimize(log_likelihood, (1, 1)).x\n",
    "\n",
    "data = {'Y Intercept': ['4', '1'],\n",
    "'Y Intercept (calc)': [y_intercept1, y_intercept2],\n",
    "'Slope': ['1.4', '0.5'],\n",
    "'Slope (calc)': [slope1, slope2]}\n",
    "\n",
    "pd.DataFrame(data = data)"
   ]
  }
 ],
 "metadata": {
  "kernelspec": {
   "display_name": "Python 3",
   "language": "python",
   "name": "python3"
  },
  "language_info": {
   "codemirror_mode": {
    "name": "ipython",
    "version": 3
   },
   "file_extension": ".py",
   "mimetype": "text/x-python",
   "name": "python",
   "nbconvert_exporter": "python",
   "pygments_lexer": "ipython3",
   "version": "3.6.4"
  }
 },
 "nbformat": 4,
 "nbformat_minor": 1
}
