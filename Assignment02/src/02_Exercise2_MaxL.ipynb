{
 "cells": [
  {
   "cell_type": "markdown",
   "metadata": {},
   "source": [
    "## Task1"
   ]
  },
  {
   "cell_type": "markdown",
   "metadata": {},
   "source": [
    "Implement in Python ( you can use SciPy library) the Maximum Likelihood Estimator to estimate the parameters for example mean and variance of some data.\n",
    "Your steps are:\n",
    "* Create a data set: \n",
    "    - Set x-values for example: *x = np.linspace(0, 100, num=100)*, \n",
    "    - Set observed y-values using a known slope (1.4), intercept (4), and sd (3), for example       *y = 4 + 1.4x + np.random.normal(0, 3, 100)*\n",
    "* Create a likelihood function which arguments is a list of initial parameters\n",
    "* Test this function on various data sets \n",
    "(Hint: you can use minimize from scipy.optimize and scipy.stats to compute the negative log-likelihood)"
   ]
  },
  {
   "cell_type": "code",
   "execution_count": 1,
   "metadata": {},
   "outputs": [],
   "source": [
    "import numpy as np\n",
    "import scipy as sp"
   ]
  },
  {
   "cell_type": "code",
   "execution_count": 3,
   "metadata": {},
   "outputs": [],
   "source": [
    "x = np.linspace(0, 100, num=100)\n",
    "y = 4 + 1.4*x + np.random.normal(0, 3, 100)"
   ]
  }
 ],
 "metadata": {
  "kernelspec": {
   "display_name": "Python 3",
   "language": "python",
   "name": "python3"
  },
  "language_info": {
   "codemirror_mode": {
    "name": "ipython",
    "version": 3
   },
   "file_extension": ".py",
   "mimetype": "text/x-python",
   "name": "python",
   "nbconvert_exporter": "python",
   "pygments_lexer": "ipython3",
   "version": "3.6.4"
  }
 },
 "nbformat": 4,
 "nbformat_minor": 1
}
