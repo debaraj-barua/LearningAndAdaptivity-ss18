{
 "cells": [
  {
   "cell_type": "markdown",
   "metadata": {},
   "source": [
    "# Assignment 02\n",
    "\n",
    "## Exercise 01"
   ]
  },
  {
   "cell_type": "code",
   "execution_count": 17,
   "metadata": {},
   "outputs": [],
   "source": [
    "import numpy as np\n",
    "import matplotlib.pyplot as plt"
   ]
  },
  {
   "cell_type": "markdown",
   "metadata": {},
   "source": [
    "Let's suppose we have a set of observations $x=(x_1,…,x_N)^T$, that are drawn independent and identically distributed (i.i.d) from a Gaussian distribution with unknown mean $\\mu$ and variance $\\sigma^2$"
   ]
  },
  {
   "cell_type": "markdown",
   "metadata": {},
   "source": [
    "For this example, we are going to assume that the unknown parameters are $\\mu$=2 and $\\sigma^2$=25 and the number of samples N=100."
   ]
  },
  {
   "cell_type": "code",
   "execution_count": 18,
   "metadata": {},
   "outputs": [],
   "source": [
    "mean = 2\n",
    "variance = 25\n",
    "std_dev = np.sqrt(25)\n",
    "N = 100\n",
    "\n",
    "distribution = np.random.normal(loc = 2, scale = std_dev, size=N)"
   ]
  },
  {
   "cell_type": "markdown",
   "metadata": {},
   "source": [
    "### Task1:\n",
    "Plot this (unknown) distribution together with the samples in the range [-20, 20]."
   ]
  },
  {
   "cell_type": "code",
   "execution_count": 51,
   "metadata": {},
   "outputs": [
    {
     "data": {
      "image/png": "[encoded data removed]",
      "text/plain": [
       "<matplotlib.figure.Figure at 0x7f5a5c61b128>"
      ]
     },
     "metadata": {},
     "output_type": "display_data"
    }
   ],
   "source": [
    "samples = np.arange(-20,21)\n",
    "distrib= np.hstack(((distribution[:,np.newaxis]),np.zeros(distribution1.shape))) \n",
    "\n",
    "plt.plot(samples,plt.mlab.normpdf(samples, mean, std_dev))\n",
    "plt.scatter(distrib[:,0],distrib[:,1], color='r', marker='x')\n",
    "plt.show()"
   ]
  },
  {
   "cell_type": "markdown",
   "metadata": {},
   "source": [
    "### Task2:\n",
    "* Implement the likelihood function in python (you can simply use the existing python implementations)\n",
    "* Use a general optimization method to find the values for $\\mu$ and $\\sigma^2$."
   ]
  },
  {
   "cell_type": "code",
   "execution_count": null,
   "metadata": {},
   "outputs": [],
   "source": []
  },
  {
   "cell_type": "markdown",
   "metadata": {},
   "source": [
    "### Task3:\n",
    "\n",
    "Given:\n",
    "<br>\n",
    "$\\mu = \\begin{bmatrix}\n",
    "      0\\\\[0.3em]\n",
    "      0\\\\[0.3em]\n",
    "     \\end{bmatrix}$\n",
    "<br>\n",
    "$\\Sigma = \\begin{bmatrix}\n",
    "      0.5 & 0\\\\[0.3em]\n",
    "      0 & 0.5\\\\[0.3em]\n",
    "     \\end{bmatrix}$\n",
    "<br>\n",
    "1. Visualise a Gaussian with the given parameters.\n",
    "2. Visualise a marginal Gaussian.\n",
    "3. Visualise a slice of Gaussian."
   ]
  },
  {
   "cell_type": "code",
   "execution_count": null,
   "metadata": {
    "collapsed": true
   },
   "outputs": [],
   "source": []
  }
 ],
 "metadata": {
  "kernelspec": {
   "display_name": "Python 3",
   "language": "python",
   "name": "python3"
  },
  "language_info": {
   "codemirror_mode": {
    "name": "ipython",
    "version": 3
   },
   "file_extension": ".py",
   "mimetype": "text/x-python",
   "name": "python",
   "nbconvert_exporter": "python",
   "pygments_lexer": "ipython3",
   "version": "3.6.4"
  }
 },
 "nbformat": 4,
 "nbformat_minor": 1
}
